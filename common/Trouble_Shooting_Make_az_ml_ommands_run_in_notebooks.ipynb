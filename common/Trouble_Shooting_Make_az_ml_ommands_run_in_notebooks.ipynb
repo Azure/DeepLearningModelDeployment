{
 "cells": [
  {
   "attachments": {},
   "cell_type": "markdown",
   "metadata": {},
   "source": [
    "# Issue: `az -h` check fails\n",
    "\n",
    "When you see the `az -h` check fail as shown in below screenshot, it indicates that the environment where the Jupyter server is lanched does not have `az` installed. \n",
    "\n",
    "![azcheckfail2](../imgs/azcheckfail2.PNG)\n",
    "\n",
    "# Resolution: Launch Jupyter server manually\n",
    "\n",
    "In the console, execute `jupyter sever`. You should see the output similar to below screenshot. You can then access your notebooks at `https://<vm_ip>:<port_number>` or `http://<vm_ip>:<port_number>`, depending on the backend settings. Use the address indicated in the command ouput. \n",
    "![jupyterserver](../imgs/jupyterserver.PNG)\n",
    "\n",
    "If it shows `http(s)://localhost:<port_number>` in the output, use `Ctrl+C` to shut down the server. Try again using command `jupyter notebook --ip=*` or `jupyter notebook --no-browser --ip=*`\n",
    "\n",
    "\n",
    "The bottom line is that, you need to launch Jupyter server manually. Sometimes you may need to modify the configuration file `/home/<your_user_name>/.jupyter/jupyter_notebook_config.py`. Below information are for your reference. \n",
    "- [Access Jupyter notebooks on Azure DSVM](http://yiyujia.blogspot.com/2018/05/access-jupyter-notebooks-on-azure-dsvm.html)\n",
    "- [How to change the Jupyter start-up folder](https://stackoverflow.com/questions/35254852/how-to-change-the-jupyter-start-up-folder)\n",
    "- [Config file and command line options](http://jupyter-notebook.readthedocs.io/en/stable/config.html)\n",
    "\n"
   ]
  },
  {
   "cell_type": "markdown",
   "metadata": {},
   "source": [
    "# Issue: `az ml -h` check fails\n",
    "When you see the `az ml -h` fail as shown in below screenshot, it indicates that the same check will fail in the console as well.\n",
    "\n",
    "![azcheckfailnotebook](../imgs/azcheckfailnotebook.PNG)\n",
    "![azcheckfail](../imgs/azcheckfail.PNG)\n",
    "\n",
    "\n",
    "# Resolution: Create a New Conda Environment\n",
    "\n",
    "1. In console, locate file `/DeepLearningModelDeployment/common/cli-requirements.txt` in this repository. Navigate to the same directory where `cli-requirements.txt` is.\n",
    "2. Execute below commands in console:\n",
    "\n",
    "        conda create --name az_ml_test python=3.5\n",
    "        activate az_ml_test\n",
    "        pip install -r cli-requirements.txt\n",
    "        pip install azure-cli-ml\n",
    "\n",
    "Now you should see below screenshot when execute command `conda info --env`. You can see that a new conda environment `az_ml_test` is created. \n",
    "\n",
    "![condaenv1](../imgs/condaenv1.PNG)\n",
    "\n",
    "Exectue command `source activate az_ml_test` to make it current active environment (see the `*` is besides it).\n",
    " ![condaenv2](../imgs/condaenv2.PNG)\n",
    " \n",
    " \n",
    "Exectue `az ml -h` again, and you should see following screenshot indicating the check is successful.\n",
    "\n",
    "\n",
    "![azcheckinconsole](../imgs/azcheckinconsole.PNG)\n",
    "\n",
    "\n",
    "Now you can manully lanch Jupyter server as shown by the previous section. In the notebooks, you should also see `az ml -h` check successful. As a side note, the check output shown in below screenshot is correct.\n",
    "\n",
    "![whichaz2](../imgs/whichaz2.PNG) \n",
    "\n",
    "THe check output shown in below screenshot is incorrect. \n",
    "![whichaz1](../imgs/whichaz1.PNG)\n",
    "\n"
   ]
  }
 ],
 "metadata": {
  "kernelspec": {
   "display_name": "Python [default]",
   "language": "python",
   "name": "python3"
  },
  "language_info": {
   "codemirror_mode": {
    "name": "ipython",
    "version": 3
   },
   "file_extension": ".py",
   "mimetype": "text/x-python",
   "name": "python",
   "nbconvert_exporter": "python",
   "pygments_lexer": "ipython3",
   "version": "3.5.4"
  }
 },
 "nbformat": 4,
 "nbformat_minor": 2
}
